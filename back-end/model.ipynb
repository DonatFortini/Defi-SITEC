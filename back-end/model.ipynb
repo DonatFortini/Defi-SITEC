{
 "cells": [
  {
   "cell_type": "code",
   "execution_count": 4,
   "metadata": {},
   "outputs": [],
   "source": [
    "import pandas as pd\n",
    "import numpy as np\n",
    "from scipy.spatial.distance import euclidean\n",
    "from scipy.spatial import distance_matrix\n",
    "from scipy.optimize import linear_sum_assignment\n",
    "import matplotlib.pyplot as plt\n",
    "import seaborn as sns\n",
    "import re\n",
    "import json\n",
    "from sklearn.model_selection import train_test_split\n",
    "from sklearn.linear_model import LinearRegression\n",
    "from sklearn.metrics import mean_squared_error\n",
    "from sklearn.preprocessing import StandardScaler "
   ]
  },
  {
   "cell_type": "code",
   "execution_count": 5,
   "metadata": {},
   "outputs": [
    {
     "name": "stdout",
     "output_type": "stream",
     "text": [
      "            Unnamed: 1            poubelle 1   Unnamed: 3      Unnamed: 4  \\\n",
      "0                 date                   GPS  remplissage  coeff touriste   \n",
      "1  2023-01-01 00:00:00  42°36'39\"N 9°21'14\"E            5               1   \n",
      "2  2023-01-02 00:00:00                   NaN           40               1   \n",
      "3  2023-01-03 00:00:00                   NaN            0               1   \n",
      "4  2023-01-04 00:00:00                   NaN           37               1   \n",
      "\n",
      "             poubelle 2    Unnamed: 6      Unnamed: 7            poubelle 3  \\\n",
      "0                  GPS   remplissage   coeff touriste                  GPS    \n",
      "1  42°36'44\"N 9°21'24\"E            18               1  42°36'51\"N 9°21'17\"E   \n",
      "2                   NaN            51               1                   NaN   \n",
      "3                   NaN             0               1                   NaN   \n",
      "4                   NaN            25               1                   NaN   \n",
      "\n",
      "     Unnamed: 9     Unnamed: 10  ...     Unnamed: 13            poubelle 5  \\\n",
      "0  remplissage   coeff touriste  ...  coeff touriste                  GPS    \n",
      "1            21               1  ...               1  42°37'01\"N 9°21'20\"E   \n",
      "2            46               1  ...               1                   NaN   \n",
      "3             0               1  ...               1                   NaN   \n",
      "4            30               1  ...               1                   NaN   \n",
      "\n",
      "    Unnamed: 15     Unnamed: 16            poubelle 6   Unnamed: 18  \\\n",
      "0  remplissage   coeff touriste                  GPS   remplissage    \n",
      "1             9               1  42°36'30\"N 9°21'29\"E            13   \n",
      "2            51               1                   NaN            45   \n",
      "3             0               1                   NaN             0   \n",
      "4            38               1                   NaN            42   \n",
      "\n",
      "      Unnamed: 19            poubelle 7   Unnamed: 21     Unnamed: 22  \n",
      "0  coeff touriste                  GPS   remplissage   coeff touriste  \n",
      "1               1  42°36'07\"N 9°21'35\"E            11               1  \n",
      "2               1                   NaN            40               1  \n",
      "3               1                   NaN             0               1  \n",
      "4               1                   NaN            49               1  \n",
      "\n",
      "[5 rows x 22 columns]\n",
      "[(42.61083333333333, 9.35388888888889), (42.61222222222222, 9.356666666666666), (42.61416666666667, 9.354722222222222), (42.61527777777778, 9.351388888888888), (42.61694444444444, 9.355555555555556), (42.608333333333334, 9.358055555555556), (42.60194444444445, 9.359722222222222)]\n"
     ]
    }
   ],
   "source": [
    "\n",
    "data = pd.read_excel(\"Taux_Remplissage_ComCom_Nebbiu.xlsx\")\n",
    "data = data.drop(['Unnamed: 0'], axis=1)\n",
    "date = data['Unnamed: 1']\n",
    "#data = data.drop(['Unnamed: 1'], axis=1)\n",
    "merged_data = pd.DataFrame()\n",
    "\n",
    "print(data.head())\n",
    "gps = [data[i][1] for i in data.columns if i.startswith('poubelle')]\n",
    "\n",
    "\n",
    "def dms_to_decimal(degrees, minutes, seconds, direction):\n",
    "    decimal_degrees = float(degrees) + float(minutes) / \\\n",
    "        60 + float(seconds)/(60*60)\n",
    "    if direction in ['S', 'W']:\n",
    "        decimal_degrees = -decimal_degrees\n",
    "    return decimal_degrees\n",
    "\n",
    "\n",
    "def parse_coordinates(coord_string:str)->tuple:\n",
    "    '''convertit les coordonnées GPS en degrés décimaux'''\n",
    "    degrees = re.findall(r\"(\\d+)°\", coord_string)\n",
    "    minutes = re.findall(r'(\\d+)\\'', coord_string)\n",
    "    seconds = re.findall(r'(\\d+)\"', coord_string)\n",
    "    lat_dir = re.findall(r'([NSEW])+', coord_string)\n",
    "    \n",
    "    latitude = dms_to_decimal(degrees[0], minutes[0], seconds[0], lat_dir[0])\n",
    "    longitude = dms_to_decimal(degrees[1], minutes[1], seconds[1], lat_dir[1])\n",
    "\n",
    "    return latitude, longitude\n",
    "\n",
    "coordinates = [parse_coordinates(coord) for coord in gps]\n",
    "print(coordinates)"
   ]
  },
  {
   "cell_type": "code",
   "execution_count": 6,
   "metadata": {},
   "outputs": [
    {
     "ename": "KeyError",
     "evalue": "\"None of [Index(['niveau_remplissage', 'densite_population', 'affluence_touristique'], dtype='object')] are in the [columns]\"",
     "output_type": "error",
     "traceback": [
      "\u001b[0;31m---------------------------------------------------------------------------\u001b[0m",
      "\u001b[0;31mKeyError\u001b[0m                                  Traceback (most recent call last)",
      "Cell \u001b[0;32mIn[6], line 2\u001b[0m\n\u001b[1;32m      1\u001b[0m scaler \u001b[38;5;241m=\u001b[39m StandardScaler()\n\u001b[0;32m----> 2\u001b[0m data[[\u001b[38;5;124m'\u001b[39m\u001b[38;5;124mremplissage\u001b[39m\u001b[38;5;124m'\u001b[39m, \u001b[38;5;124m'\u001b[39m\u001b[38;5;124mdensite_population\u001b[39m\u001b[38;5;124m'\u001b[39m, \u001b[38;5;124m'\u001b[39m\u001b[38;5;124maffluence_touristique\u001b[39m\u001b[38;5;124m'\u001b[39m]] \u001b[38;5;241m=\u001b[39m scaler\u001b[38;5;241m.\u001b[39mfit_transform(\u001b[43mdata\u001b[49m\u001b[43m[\u001b[49m\u001b[43m[\u001b[49m\u001b[38;5;124;43m'\u001b[39;49m\u001b[38;5;124;43mniveau_remplissage\u001b[39;49m\u001b[38;5;124;43m'\u001b[39;49m\u001b[43m,\u001b[49m\u001b[43m \u001b[49m\u001b[38;5;124;43m'\u001b[39;49m\u001b[38;5;124;43mdensite_population\u001b[39;49m\u001b[38;5;124;43m'\u001b[39;49m\u001b[43m,\u001b[49m\u001b[43m \u001b[49m\u001b[38;5;124;43m'\u001b[39;49m\u001b[38;5;124;43maffluence_touristique\u001b[39;49m\u001b[38;5;124;43m'\u001b[39;49m\u001b[43m]\u001b[49m\u001b[43m]\u001b[49m)\n",
      "File \u001b[0;32m~/.local/lib/python3.10/site-packages/pandas/core/frame.py:3767\u001b[0m, in \u001b[0;36mDataFrame.__getitem__\u001b[0;34m(self, key)\u001b[0m\n\u001b[1;32m   3765\u001b[0m     \u001b[38;5;28;01mif\u001b[39;00m is_iterator(key):\n\u001b[1;32m   3766\u001b[0m         key \u001b[38;5;241m=\u001b[39m \u001b[38;5;28mlist\u001b[39m(key)\n\u001b[0;32m-> 3767\u001b[0m     indexer \u001b[38;5;241m=\u001b[39m \u001b[38;5;28;43mself\u001b[39;49m\u001b[38;5;241;43m.\u001b[39;49m\u001b[43mcolumns\u001b[49m\u001b[38;5;241;43m.\u001b[39;49m\u001b[43m_get_indexer_strict\u001b[49m\u001b[43m(\u001b[49m\u001b[43mkey\u001b[49m\u001b[43m,\u001b[49m\u001b[43m \u001b[49m\u001b[38;5;124;43m\"\u001b[39;49m\u001b[38;5;124;43mcolumns\u001b[39;49m\u001b[38;5;124;43m\"\u001b[39;49m\u001b[43m)\u001b[49m[\u001b[38;5;241m1\u001b[39m]\n\u001b[1;32m   3769\u001b[0m \u001b[38;5;66;03m# take() does not accept boolean indexers\u001b[39;00m\n\u001b[1;32m   3770\u001b[0m \u001b[38;5;28;01mif\u001b[39;00m \u001b[38;5;28mgetattr\u001b[39m(indexer, \u001b[38;5;124m\"\u001b[39m\u001b[38;5;124mdtype\u001b[39m\u001b[38;5;124m\"\u001b[39m, \u001b[38;5;28;01mNone\u001b[39;00m) \u001b[38;5;241m==\u001b[39m \u001b[38;5;28mbool\u001b[39m:\n",
      "File \u001b[0;32m~/.local/lib/python3.10/site-packages/pandas/core/indexes/base.py:5876\u001b[0m, in \u001b[0;36mIndex._get_indexer_strict\u001b[0;34m(self, key, axis_name)\u001b[0m\n\u001b[1;32m   5873\u001b[0m \u001b[38;5;28;01melse\u001b[39;00m:\n\u001b[1;32m   5874\u001b[0m     keyarr, indexer, new_indexer \u001b[38;5;241m=\u001b[39m \u001b[38;5;28mself\u001b[39m\u001b[38;5;241m.\u001b[39m_reindex_non_unique(keyarr)\n\u001b[0;32m-> 5876\u001b[0m \u001b[38;5;28;43mself\u001b[39;49m\u001b[38;5;241;43m.\u001b[39;49m\u001b[43m_raise_if_missing\u001b[49m\u001b[43m(\u001b[49m\u001b[43mkeyarr\u001b[49m\u001b[43m,\u001b[49m\u001b[43m \u001b[49m\u001b[43mindexer\u001b[49m\u001b[43m,\u001b[49m\u001b[43m \u001b[49m\u001b[43maxis_name\u001b[49m\u001b[43m)\u001b[49m\n\u001b[1;32m   5878\u001b[0m keyarr \u001b[38;5;241m=\u001b[39m \u001b[38;5;28mself\u001b[39m\u001b[38;5;241m.\u001b[39mtake(indexer)\n\u001b[1;32m   5879\u001b[0m \u001b[38;5;28;01mif\u001b[39;00m \u001b[38;5;28misinstance\u001b[39m(key, Index):\n\u001b[1;32m   5880\u001b[0m     \u001b[38;5;66;03m# GH 42790 - Preserve name from an Index\u001b[39;00m\n",
      "File \u001b[0;32m~/.local/lib/python3.10/site-packages/pandas/core/indexes/base.py:5935\u001b[0m, in \u001b[0;36mIndex._raise_if_missing\u001b[0;34m(self, key, indexer, axis_name)\u001b[0m\n\u001b[1;32m   5933\u001b[0m     \u001b[38;5;28;01mif\u001b[39;00m use_interval_msg:\n\u001b[1;32m   5934\u001b[0m         key \u001b[38;5;241m=\u001b[39m \u001b[38;5;28mlist\u001b[39m(key)\n\u001b[0;32m-> 5935\u001b[0m     \u001b[38;5;28;01mraise\u001b[39;00m \u001b[38;5;167;01mKeyError\u001b[39;00m(\u001b[38;5;124mf\u001b[39m\u001b[38;5;124m\"\u001b[39m\u001b[38;5;124mNone of [\u001b[39m\u001b[38;5;132;01m{\u001b[39;00mkey\u001b[38;5;132;01m}\u001b[39;00m\u001b[38;5;124m] are in the [\u001b[39m\u001b[38;5;132;01m{\u001b[39;00maxis_name\u001b[38;5;132;01m}\u001b[39;00m\u001b[38;5;124m]\u001b[39m\u001b[38;5;124m\"\u001b[39m)\n\u001b[1;32m   5937\u001b[0m not_found \u001b[38;5;241m=\u001b[39m \u001b[38;5;28mlist\u001b[39m(ensure_index(key)[missing_mask\u001b[38;5;241m.\u001b[39mnonzero()[\u001b[38;5;241m0\u001b[39m]]\u001b[38;5;241m.\u001b[39munique())\n\u001b[1;32m   5938\u001b[0m \u001b[38;5;28;01mraise\u001b[39;00m \u001b[38;5;167;01mKeyError\u001b[39;00m(\u001b[38;5;124mf\u001b[39m\u001b[38;5;124m\"\u001b[39m\u001b[38;5;132;01m{\u001b[39;00mnot_found\u001b[38;5;132;01m}\u001b[39;00m\u001b[38;5;124m not in index\u001b[39m\u001b[38;5;124m\"\u001b[39m)\n",
      "\u001b[0;31mKeyError\u001b[0m: \"None of [Index(['niveau_remplissage', 'densite_population', 'affluence_touristique'], dtype='object')] are in the [columns]\""
     ]
    }
   ],
   "source": [
    "scaler = StandardScaler()\n",
    "data[['remplissage', 'densite_population', 'affluence_touristique']] = scaler.fit_transform(data[['niveau_remplissage', 'densite_population', 'affluence_touristique']])"
   ]
  },
  {
   "cell_type": "code",
   "execution_count": 7,
   "metadata": {},
   "outputs": [
    {
     "ename": "NameError",
     "evalue": "name 'X' is not defined",
     "output_type": "error",
     "traceback": [
      "\u001b[0;31m---------------------------------------------------------------------------\u001b[0m",
      "\u001b[0;31mNameError\u001b[0m                                 Traceback (most recent call last)",
      "Cell \u001b[0;32mIn[7], line 1\u001b[0m\n\u001b[0;32m----> 1\u001b[0m X_train, X_test, y_train, y_test \u001b[38;5;241m=\u001b[39m train_test_split(\u001b[43mX\u001b[49m, y, test_size\u001b[38;5;241m=\u001b[39m\u001b[38;5;241m0.2\u001b[39m, random_state\u001b[38;5;241m=\u001b[39m\u001b[38;5;241m42\u001b[39m)\n",
      "\u001b[0;31mNameError\u001b[0m: name 'X' is not defined"
     ]
    }
   ],
   "source": [
    "X_train, X_test, y_train, y_test = train_test_split(X, y, test_size=0.2, random_state=42)"
   ]
  },
  {
   "cell_type": "code",
   "execution_count": null,
   "metadata": {},
   "outputs": [],
   "source": [
    "model = LinearRegression()\n",
    "model.fit(X_train, y_train)"
   ]
  },
  {
   "cell_type": "code",
   "execution_count": null,
   "metadata": {},
   "outputs": [],
   "source": [
    "predictions = model.predict(X_test)"
   ]
  },
  {
   "cell_type": "code",
   "execution_count": null,
   "metadata": {},
   "outputs": [],
   "source": [
    "mse = mean_squared_error(y_test, predictions)\n",
    "print(f'Mean Squared Error: {mse}')"
   ]
  },
  {
   "cell_type": "code",
   "execution_count": null,
   "metadata": {},
   "outputs": [],
   "source": [
    "new_data = pd.DataFrame({'niveau_remplissage': [0.8], 'densite_population': [1.2], 'affluence_touristique': [0.5]})\n",
    "scaled_data = scaler.transform(new_data)\n",
    "prediction = model.predict(scaled_data)\n",
    "print(f'Prédiction de la fréquence de collecte : {prediction}')"
   ]
  }
 ],
 "metadata": {
  "kernelspec": {
   "display_name": "Python 3",
   "language": "python",
   "name": "python3"
  },
  "language_info": {
   "codemirror_mode": {
    "name": "ipython",
    "version": 3
   },
   "file_extension": ".py",
   "mimetype": "text/x-python",
   "name": "python",
   "nbconvert_exporter": "python",
   "pygments_lexer": "ipython3",
   "version": "3.10.12"
  }
 },
 "nbformat": 4,
 "nbformat_minor": 2
}
