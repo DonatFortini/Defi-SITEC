{
 "cells": [
  {
   "cell_type": "code",
   "execution_count": null,
   "metadata": {},
   "outputs": [],
   "source": [
    "import pandas as pd\n",
    "import numpy as np\n",
    "import matplotlib.pyplot as plt\n",
    "import seaborn as sns\n",
    "from sklearn.model_selection import train_test_split\n",
    "from sklearn.linear_model import LinearRegression\n",
    "from sklearn.metrics import mean_squared_error\n",
    "from sklearn.preprocessing import StandardScaler "
   ]
  },
  {
   "cell_type": "code",
   "execution_count": null,
   "metadata": {},
   "outputs": [],
   "source": [
    "data = pd.read_csv('data.csv')\n",
    "data = data.dropna()\n",
    "data\n",
    "\n",
    "\n",
    "import pandas as pd\n",
    "\n",
    "# Charger le fichier Excel\n",
    "df = pd.read_excel('Taux_Remplissage_ComCom_Nebbiu.xlsx')\n",
    "\n",
    "# Filtrer les données pour le village sélectionné\n",
    "village_selectionne = \"sorio\"\n",
    "df_village = df[df['Village'] == village_selectionne]\n",
    "\n",
    "# Créer le tableau\n",
    "tableau = df_village[['Village', 'Poubelle', 'GPS', 'Remplissage', 'CoeffTouriste']].values.tolist()\n",
    "\n",
    "# Afficher le tableau\n",
    "for ligne in tableau:\n",
    "    print(ligne)"
   ]
  },
  {
   "cell_type": "code",
   "execution_count": null,
   "metadata": {},
   "outputs": [],
   "source": [
    "scaler = StandardScaler()\n",
    "data[['niveau_remplissage', 'densite_population', 'affluence_touristique']] = scaler.fit_transform(data[['niveau_remplissage', 'densite_population', 'affluence_touristique']])"
   ]
  },
  {
   "cell_type": "code",
   "execution_count": null,
   "metadata": {},
   "outputs": [],
   "source": [
    "X_train, X_test, y_train, y_test = train_test_split(X, y, test_size=0.2, random_state=42)"
   ]
  },
  {
   "cell_type": "code",
   "execution_count": null,
   "metadata": {},
   "outputs": [],
   "source": [
    "model = LinearRegression()\n",
    "model.fit(X_train, y_train)"
   ]
  },
  {
   "cell_type": "code",
   "execution_count": null,
   "metadata": {},
   "outputs": [],
   "source": [
    "predictions = model.predict(X_test)"
   ]
  },
  {
   "cell_type": "code",
   "execution_count": null,
   "metadata": {},
   "outputs": [],
   "source": [
    "mse = mean_squared_error(y_test, predictions)\n",
    "print(f'Mean Squared Error: {mse}')"
   ]
  },
  {
   "cell_type": "code",
   "execution_count": null,
   "metadata": {},
   "outputs": [],
   "source": [
    "new_data = pd.DataFrame({'niveau_remplissage': [0.8], 'densite_population': [1.2], 'affluence_touristique': [0.5]})\n",
    "scaled_data = scaler.transform(new_data)\n",
    "prediction = model.predict(scaled_data)\n",
    "print(f'Prédiction de la fréquence de collecte : {prediction}')"
   ]
  }
 ],
 "metadata": {
  "kernelspec": {
   "display_name": "Python 3",
   "language": "python",
   "name": "python3"
  },
  "language_info": {
   "name": "python",
   "version": "3.10.12"
  }
 },
 "nbformat": 4,
 "nbformat_minor": 2
}
